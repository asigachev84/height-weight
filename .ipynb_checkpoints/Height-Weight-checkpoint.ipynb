{
 "cells": [
  {
   "cell_type": "code",
   "execution_count": 105,
   "metadata": {},
   "outputs": [
    {
     "data": {
      "text/html": [
       "<div>\n",
       "<style>\n",
       "    .dataframe thead tr:only-child th {\n",
       "        text-align: right;\n",
       "    }\n",
       "\n",
       "    .dataframe thead th {\n",
       "        text-align: left;\n",
       "    }\n",
       "\n",
       "    .dataframe tbody tr th {\n",
       "        vertical-align: top;\n",
       "    }\n",
       "</style>\n",
       "<table border=\"1\" class=\"dataframe\">\n",
       "  <thead>\n",
       "    <tr style=\"text-align: right;\">\n",
       "      <th></th>\n",
       "      <th>Height(Inches)</th>\n",
       "      <th>Weight(Pounds)</th>\n",
       "      <th>Height</th>\n",
       "      <th>Weight</th>\n",
       "    </tr>\n",
       "    <tr>\n",
       "      <th>Index</th>\n",
       "      <th></th>\n",
       "      <th></th>\n",
       "      <th></th>\n",
       "      <th></th>\n",
       "    </tr>\n",
       "  </thead>\n",
       "  <tbody>\n",
       "    <tr>\n",
       "      <th>1</th>\n",
       "      <td>65.78331</td>\n",
       "      <td>112.9925</td>\n",
       "      <td>167.089607</td>\n",
       "      <td>61.252494</td>\n",
       "    </tr>\n",
       "    <tr>\n",
       "      <th>2</th>\n",
       "      <td>71.51521</td>\n",
       "      <td>136.4873</td>\n",
       "      <td>181.648633</td>\n",
       "      <td>71.909547</td>\n",
       "    </tr>\n",
       "    <tr>\n",
       "      <th>3</th>\n",
       "      <td>69.39874</td>\n",
       "      <td>153.0269</td>\n",
       "      <td>176.272800</td>\n",
       "      <td>79.411778</td>\n",
       "    </tr>\n",
       "    <tr>\n",
       "      <th>4</th>\n",
       "      <td>68.21660</td>\n",
       "      <td>142.3354</td>\n",
       "      <td>173.270164</td>\n",
       "      <td>74.562199</td>\n",
       "    </tr>\n",
       "    <tr>\n",
       "      <th>5</th>\n",
       "      <td>67.78781</td>\n",
       "      <td>144.2971</td>\n",
       "      <td>172.181037</td>\n",
       "      <td>75.452010</td>\n",
       "    </tr>\n",
       "  </tbody>\n",
       "</table>\n",
       "</div>"
      ],
      "text/plain": [
       "       Height(Inches)  Weight(Pounds)      Height     Weight\n",
       "Index                                                       \n",
       "1            65.78331        112.9925  167.089607  61.252494\n",
       "2            71.51521        136.4873  181.648633  71.909547\n",
       "3            69.39874        153.0269  176.272800  79.411778\n",
       "4            68.21660        142.3354  173.270164  74.562199\n",
       "5            67.78781        144.2971  172.181037  75.452010"
      ]
     },
     "execution_count": 105,
     "metadata": {},
     "output_type": "execute_result"
    }
   ],
   "source": [
    "import pandas as pd\n",
    "import numpy as np\n",
    "from scipy import stats\n",
    "\n",
    "# Импортируем данные, устанавливая индекс и корректные имена колонок\n",
    "dfOriginal = pd.read_csv('hw_25000.csv', index_col = 0, usecols = [0, 1,2], names = ['Index', 'Height(Inches)', 'Weight(Pounds)'], header = 0)\n",
    "\n",
    "# Добавляем колонки с ростом в сантиметрах и весом в килограммах\n",
    "dfOriginal['Height'] = dfOriginal['Height(Inches)']*2.54\n",
    "dfOriginal['Weight'] = dfOriginal['Weight(Pounds)']*.453592\n",
    "\n",
    "dfOriginal.head()"
   ]
  },
  {
   "cell_type": "code",
   "execution_count": 161,
   "metadata": {},
   "outputs": [
    {
     "name": "stdout",
     "output_type": "stream",
     "text": [
      "P-значение: 0.175678813413\n",
      "Разница в весах статистически незначима\n"
     ]
    }
   ],
   "source": [
    "#Делаем выборку из 20 человек с ростом в диапазоне от 170 до 180 см\n",
    "dfSample = dfOriginal.query('Height >= 170 & Height <= 180').sample(20)\n",
    "#Получаем список значений весов выборки\n",
    "sample = dfSample['Weight'].tolist()\n",
    "#Получаем p-значение\n",
    "pValue = stats.ttest_1samp(sample, dfOriginal['Weight'].mean())[1]\n",
    "\n",
    "print('P-значение:',pValue)\n",
    "\n",
    "if pValue < 0.05:\n",
    "    print('Разница в весах статистически значима')\n",
    "else:\n",
    "    print('Разница в весах статистически незначима')"
   ]
  }
 ],
 "metadata": {
  "kernelspec": {
   "display_name": "Python 3",
   "language": "python",
   "name": "python3"
  },
  "language_info": {
   "codemirror_mode": {
    "name": "ipython",
    "version": 3
   },
   "file_extension": ".py",
   "mimetype": "text/x-python",
   "name": "python",
   "nbconvert_exporter": "python",
   "pygments_lexer": "ipython3",
   "version": "3.6.2"
  }
 },
 "nbformat": 4,
 "nbformat_minor": 2
}
